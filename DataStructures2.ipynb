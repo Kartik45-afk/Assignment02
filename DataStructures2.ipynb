{
  "nbformat": 4,
  "nbformat_minor": 0,
  "metadata": {
    "colab": {
      "provenance": []
    },
    "kernelspec": {
      "name": "python3",
      "display_name": "Python 3"
    },
    "language_info": {
      "name": "python"
    }
  },
  "cells": [
    {
      "cell_type": "markdown",
      "source": [
        "#  Theoretical Questions"
      ],
      "metadata": {
        "id": "iZa6D9kYYVoo"
      }
    },
    {
      "cell_type": "markdown",
      "source": [
        "#### #1.What are data structures, and why are they important?\n",
        "##### #Ans.Data structures are ways of organizing and storing data so that it can be accessed and used efficiently.In simple terms they help manage data in a logical and structured way.Common data structures include lists,tuples,dictionaries and sets each serving different purposes in handling information.For example,a list is great for storing ordered items,while a dictionary helps pair keys with values for quick lookups.Understanding data structures is important because they directly impact the performance of your programs,especially when working with large amounts of data.They're a fundamental part of data analysis,programming and computer science overall."
      ],
      "metadata": {
        "id": "4LiDxItzZOjR"
      }
    },
    {
      "cell_type": "markdown",
      "source": [
        "#### #2. Explain the difference between mutable and immutable data types with examples.\n",
        "##### #Ans.The main difference between mutable and immutable data types lies in whether their values can be changed after creation.Mutable data types allow modifications;you can update,add or remove elements without creating a new object.Examples include lists,dictionaries and sets.On the other hand,immutable data types do not allow any changes once created every modification creates a new object.Examples include tuples,strings and integers.This distinction is important for memory management and program behavior.Immutable types are generally safer for use in situations where data should not be altered.Meanwhile,mutable types offer flexibility when frequent updates are required."
      ],
      "metadata": {
        "id": "wC41-X-Icgfn"
      }
    },
    {
      "cell_type": "markdown",
      "source": [
        "#### #3.What are the main differences between lists and tuples in Python?\n",
        "##### #Ans.In Python,lists and tuples are both used to store collections of items but they have some key differences.The main difference is that lists are mutable,meaning you can change,add or remove elements after the list is created.Tuples are immutable,so once they are created,their values cannot be altered.Lists use square brackets [ ],while tuples use parentheses ( ).Because of their immutability,tuples are generally faster and more memory-efficient than lists.Tuples are often used for fixed data, while lists are better when data needs to change.Understanding when to use each helps write more efficient and reliable code."
      ],
      "metadata": {
        "id": "hazgQpRZeSYT"
      }
    },
    {
      "cell_type": "markdown",
      "source": [
        "#### #4.Describe how dictionaries store data.\n",
        "##### #Ans.Dictionaries store data in the form of key-value pairs,which means each piece of data (value) is linked to a unique identifier (key).This allows for fast and direct access to data using the key rather than searching through a sequence.Dictionaries are mutable so you can add,remove or change items after creation.They use curly braces { } and a colon : to separate keys and values.For example: {\"name\": \"Kartik\", \"age\": 20}.Keys must be unique and immutable (like strings or numbers),while values can be of any data type.This structure is ideal for organizing and retrieving data efficiently."
      ],
      "metadata": {
        "id": "T5312r_efOn2"
      }
    },
    {
      "cell_type": "markdown",
      "source": [
        "#### #5.Why might you use a set instead of a list in Python?\n",
        "##### #Ans.I might use a set instead of a list in python when i want to store unique items only,as sets automatically remove duplicates.Unlike lists,sets are unordered,meaning the items don't maintain any specific order.Sets are also more efficient for checking the existence of an item,making operations like membership testing (in) faster.They are mutable,so you can add or remove elements but they don't support indexing or slicing like lists.If my goal is to avoid duplicates and focus on fast lookups, a set is the better choice.This makes sets ideal for tasks like filtering unique values or handling large data collections."
      ],
      "metadata": {
        "id": "Qbx0miUhgErZ"
      }
    },
    {
      "cell_type": "markdown",
      "source": [
        "#### #6.What is a string in Python, and how is it different from a list?\n",
        "##### #Ans.A string in python is a sequence of characters enclosed in quotes used to represent text like \"Hello\" or 'Python'.Strings are immutable,meaning you can't change individual characters once the string is created.On the other hand,a list is a sequence of elements (which can include strings,numbers,etc.) and is mutable, so its contents can be changed.While both are ordered and allow indexing,strings only store characters whereas lists can store mixed data types.Also,string operations are more focused on text processing,while lists are more versatile for general data handling.Understanding the difference helps choose the right structure for your task."
      ],
      "metadata": {
        "id": "t-bhoV0Ihhyg"
      }
    },
    {
      "cell_type": "markdown",
      "source": [
        "#### #7.How do tuples ensure data integrity in Python?\n",
        "##### #Ans.Tuples ensure data integrity in python by being immutable,which means their values cannot be changed after creation.Once a tuple is defined,no one can accidentally or intentionally modify its content making it ideal for storing constant or fixed data.This immutability helps prevent bugs and unintended side effects in your programs.Tuples also support indexing and can store mixed data types just like lists.However, their unchangeable nature makes them more secure for critical data.By protecting data from changes,tuples help maintain consistency and reliability in your code."
      ],
      "metadata": {
        "id": "9Bd1Q2rxit-Q"
      }
    },
    {
      "cell_type": "markdown",
      "source": [
        "#### #8.What is a hash table, and how does it relate to dictionaries in Python?\n",
        "##### #Ans.A hash table is a data structure that stores data in an array format,where each value is accessed using a unique key.It uses a hash function to convert the key into an index where the value is stored allowing for very fast data retrieval.In python, the dictionary is an implementation of a hash table.When you use a dictionary,Python hashes the key to find the correct place in memory to store or retrieve the value.This makes dictionaries incredibly efficient for lookups,insertions and deletions.So,when you're using a dictionary,you're actually using a powerful and optimized hash table behind the scenes."
      ],
      "metadata": {
        "id": "iGN6z8x2qbvO"
      }
    },
    {
      "cell_type": "markdown",
      "source": [
        "#### #9.Can lists contain different data types in Python?\n",
        "##### #Ans.Yes,lists in python can contain different data types within the same list.This means you can store numbers,strings, booleans or even other lists together.For example: [25, \"hello\", True, [1, 2]].This flexibility makes lists very useful for handling mixed or complex data.Unlike arrays in some other languages that require elements of the same type,Python lists are more dynamic.They are also mutable,so you can change or update the values anytime.This ability to hold diverse elements makes lists a powerful and versatile tool in Python programming."
      ],
      "metadata": {
        "id": "TCQDIS4urUMK"
      }
    },
    {
      "cell_type": "markdown",
      "source": [
        "#### #10.Explain why strings are immutable in Python.\n",
        "##### #Ans.Strings are immutable in python means once a string is created,its characters cannot be changed.This design choice helps make strings safe and reliable,especially when used across different parts of a program.Immutability allows strings to be stored efficiently in memory and shared between variables without risk of accidental modification.It also supports the use of strings as keys in dictionaries,which requires them to be hashable.While you can't change a string directly,you can create a new one with the desired changes.This immutability leads to better performance and more predictable behavior in your code."
      ],
      "metadata": {
        "id": "ZTkKVCnKr-M7"
      }
    },
    {
      "cell_type": "markdown",
      "source": [
        "#### #11.What advantages do dictionaries offer over lists for certain tasks?\n",
        "##### #Ans.Dictionaries offer powerful advantages over lists when you need to store and retrieve data using a clear,descriptive label.Unlike lists that use numerical indexes,dictionaries use keys,which makes accessing data faster and more intuitive.This is especially helpful when working with structured data like user profiles or product information.Dictionaries provide faster lookups,which can greatly improve performance with large datasets.They also allow you to avoid complex indexing logic that lists often require.Additionally,keys in a dictionary must be unique,helping ensure data integrity."
      ],
      "metadata": {
        "id": "paSFmrKJsm5t"
      }
    },
    {
      "cell_type": "markdown",
      "source": [
        "#### #12.Describe a scenario where using a tuple would be preferable over a list.\n",
        "##### #Ans.A tuple is preferable over a list when you need to store a collection of values that should never change throughout the program.For example,if you're storing a user's date of birth or geographical coordinates (latitude, longitude),using a tuple ensures the data remains constant.Since tuples are immutable,they help prevent accidental modifications,which makes your code more reliable and secure.They also offer better performance and use less memory compared to lists.Tuples can also be used as keys in dictionaries,while lists cannot.In scenarios where data integrity and efficiency matter more than flexibility,tuples are the ideal choice."
      ],
      "metadata": {
        "id": "YYmg8TkJuLXX"
      }
    },
    {
      "cell_type": "markdown",
      "source": [
        "#### #13.How do sets handle duplicate values in Python?\n",
        "##### #Ans.In python,sets automatically remove duplicate values,ensuring that each item in the set is unique.When you create a set,even if you include repeated elements,only one copy of each value is stored.For example, set([1, 2, 2, 3]) will result in {1, 2, 3}.This makes sets ideal for tasks like finding unique entries in a list or removing duplicates from data.Sets also provide efficient operations like union,intersection and difference.They are unordered,so the elements don't follow any specific order.In scenarios where uniqueness is important,using a set saves both time and effort."
      ],
      "metadata": {
        "id": "6a_FvNu2vWxd"
      }
    },
    {
      "cell_type": "markdown",
      "source": [
        "#### #14.How does the “in” keyword work differently for lists and dictionaries?\n",
        "##### #Ans.The “in” keyword is used in python to check whether a value exists but it works differently for lists and dictionaries.In a list,value in list checks if the value is present anywhere in the list's elements.For example,3 in [1, 2, 3] returns True.In a dictionary,However,the 'in' keyword checks only the keys,not the values.So,if you have {\"name\": \"Kartik\"}, then \"name\" in dict returns True but \"Kartik\" in dict returns False.This difference is important because it affects how you search through your data.For checking keys in structured data,dictionaries are faster.For direct value checks across items,lists are more suitable.Always know what you're checking (keys or values) to avoid logical errors."
      ],
      "metadata": {
        "id": "Og8Hn6qCwuSe"
      }
    },
    {
      "cell_type": "markdown",
      "source": [
        "#### #15.Can you modify the elements of a tuple? Explain why or why not.\n",
        "##### #Ans.No,we cannot modify the elements of a tuple in python because tuples are immutable.Once a tuple is created,its elements are fixed and cannot be changed,added or removed.For example,if you have my_tuple = (1, 2, 3), trying to do my_tuple[0] = 10 will result in an error.This immutability ensures data integrity, especially when storing constant or unchangeable data like dates or coordinates.Tuples are designed this way to be more secure and memory-efficient than lists.However,if a tuple contains a mutable object like a list that internal object can still be modified.But the tuple's structure itself always remains unchanged."
      ],
      "metadata": {
        "id": "LJIDdg7xzHiM"
      }
    },
    {
      "cell_type": "markdown",
      "source": [
        "#### #16.What is a nested dictionary, and give an example of its use case?\n",
        "##### #Ans.A nested dictionary in python is a dictionary that contains another dictionary as a value.It allows you to store complex,structured data in a more organized way like a table or record with multiple layers.This is useful when you need to group related data under a single key.\n",
        "For example :- students = {\\\n",
        "    \"101\": {\"name\": \"Kartik\", \"age\": 20, \"grade\": \"A\"},\\\n",
        "    \"102\": {\"name\": \"Aarav\", \"age\": 21, \"grade\": \"B\"}\\\n",
        "}\\\n",
        "This dictionary is helpful when managing data for multiple users, products or records like storing student information,employee details or product catalogs where each item has multiple attributes.It keeps the data clean,readable and easy to access."
      ],
      "metadata": {
        "id": "C25s55z80zZm"
      }
    },
    {
      "cell_type": "markdown",
      "source": [
        "#### #17.Describe the time complexity of accessing elements in a dictionary.\n",
        "##### #Ans.Accessing elements in a dictionary in python is very efficient because dictionaries are implemented using a hash table. The average-case time complexity for accessing,inserting or deleting an element by key is O(1) this means it takes constant time,regardless of the size of the dictionary.This is possible due to the hashing mechanism,which quickly finds the exact memory location of the key.However,in rare cases like hash collisions, the time complexity can degrade to O(n) but python handles such situations efficiently.Compared to other data structures like lists (which take O(n) for lookups),dictionaries are much faster for key-based access.This makes dictionaries ideal for tasks requiring fast lookups, updates, and data mapping."
      ],
      "metadata": {
        "id": "F9ZPGedq4vsG"
      }
    },
    {
      "cell_type": "markdown",
      "source": [
        "#### #18.In what situations are lists preferred over dictionaries?\n",
        "##### #Ans.Lists are preferred over dictionaries when the order of elements matters and when you're working with simple,sequential data.Lists are ideal for tasks that involve iterating through items,performing sorting or storing multiple values without the need for labels.They are also useful when the data is homogeneous (all items of the same type) and doesn't require key-value pairing.\n",
        "For example,storing a list of student names or numbers like [“Kartik”, “Aarav”, “Riya”] is simple and efficient with a list. Lists maintain the order of insertion,which can be important in many applications.They also support indexing,slicing and duplicates making them flexible for many basic data storage and manipulation tasks."
      ],
      "metadata": {
        "id": "eSS_05386IED"
      }
    },
    {
      "cell_type": "markdown",
      "source": [
        "#### #19.Why are dictionaries considered unordered, and how does that affect data retrieval?\n",
        "##### #Ans.Dictionaries in python were traditionally considered unordered because the key-value pairs were not stored in any specific sequence.This means that the order in which items were inserted was not guaranteed during retrieval.However,from Python 3.7 onward,dictionaries maintain insertion order by default but they are still conceptually treated as unordered collections.This unordered nature doesn't affect data retrieval by key as access is based on hashing not position making lookups fast and efficient.But if you need data in a specific order (like sorted by keys or values),you must handle that manually.So,while the order might now appear preserved,you shouldn't rely on it for logic unless explicitly required."
      ],
      "metadata": {
        "id": "apsKYbn78jzU"
      }
    },
    {
      "cell_type": "markdown",
      "source": [
        "#### #20.Explain the difference between a list and a dictionary in terms of data retrieval.\n",
        "##### #Ans.The main difference between a list and a dictionary in terms of data retrieval lies in how data is accessed.In a list, elements are retrieved using index positions(e.g., list[0]),which means you need to know the exact position of the item.In contrast, a dictionary uses keys to access values (e.g., dict[\"name\"]), making it easier to retrieve data by name or label.Dictionaries provide faster lookup times,especially for large datasets because they use a hashing mechanism.Lists are better when the order and position of items matter.So,for labeled,structured data, dictionaries are more efficient,while lists are great for ordered sequences."
      ],
      "metadata": {
        "id": "TL6JweId-T4-"
      }
    },
    {
      "cell_type": "markdown",
      "source": [
        "#  Practical Questions"
      ],
      "metadata": {
        "id": "NqMZQP3a_svG"
      }
    },
    {
      "cell_type": "code",
      "source": [
        "#1.Write a code to create a string with your name and print it.\n",
        "name = \"Kartik\"\n",
        "print(name)"
      ],
      "metadata": {
        "colab": {
          "base_uri": "https://localhost:8080/"
        },
        "id": "4au5VNBc_y_C",
        "outputId": "1bd7274b-1a9e-46a5-dc7f-d64d390461eb"
      },
      "execution_count": 2,
      "outputs": [
        {
          "output_type": "stream",
          "name": "stdout",
          "text": [
            "Kartik\n"
          ]
        }
      ]
    },
    {
      "cell_type": "code",
      "source": [
        "#2.Write a code to find the length of the string \"Hello World\".\n",
        "text = \"Hello World\"\n",
        "print(len(text))"
      ],
      "metadata": {
        "colab": {
          "base_uri": "https://localhost:8080/"
        },
        "id": "SKgwwFOMAOio",
        "outputId": "a3308a7b-010f-4468-9426-81cb3f46fdcc"
      },
      "execution_count": 5,
      "outputs": [
        {
          "output_type": "stream",
          "name": "stdout",
          "text": [
            "11\n"
          ]
        }
      ]
    },
    {
      "cell_type": "code",
      "source": [
        "#3.Write a code to slice the first 3 characters from the string \"Python Programming\".\n",
        "text2 = \"Python Programming\"\n",
        "print(text2[0:3])"
      ],
      "metadata": {
        "colab": {
          "base_uri": "https://localhost:8080/"
        },
        "id": "pwmUbmocAqqj",
        "outputId": "02b82a63-a744-40ee-aa44-0a30c1f219e9"
      },
      "execution_count": 16,
      "outputs": [
        {
          "output_type": "stream",
          "name": "stdout",
          "text": [
            "Pyt\n"
          ]
        }
      ]
    },
    {
      "cell_type": "code",
      "source": [
        "#4.Write a code to convert the string \"hello\" to uppercase.\n",
        "text3 = \"hello\"\n",
        "print(text3.upper())"
      ],
      "metadata": {
        "colab": {
          "base_uri": "https://localhost:8080/"
        },
        "id": "_F7n1irsCWLg",
        "outputId": "115feeae-cb85-46ae-9619-a216c13e974b"
      },
      "execution_count": 17,
      "outputs": [
        {
          "output_type": "stream",
          "name": "stdout",
          "text": [
            "HELLO\n"
          ]
        }
      ]
    },
    {
      "cell_type": "code",
      "source": [
        "#5.Write a code to replace the word \"apple\" with \"orange\" in the string \"I like apple\"\n",
        "text4 = \"I like apple\"\n",
        "text4.replace(\"apple\", \"orange\")"
      ],
      "metadata": {
        "colab": {
          "base_uri": "https://localhost:8080/",
          "height": 36
        },
        "id": "P5nN7ZD7DCb9",
        "outputId": "60c68b6e-42fb-4b3e-a247-215a56a35794"
      },
      "execution_count": 14,
      "outputs": [
        {
          "output_type": "execute_result",
          "data": {
            "text/plain": [
              "'I like orange'"
            ],
            "application/vnd.google.colaboratory.intrinsic+json": {
              "type": "string"
            }
          },
          "metadata": {},
          "execution_count": 14
        }
      ]
    },
    {
      "cell_type": "code",
      "source": [
        "#6.Write a code to create a list with numbers 1 to 5 and print it.\n",
        "l1 = [1, 2, 3, 4, 5]\n",
        "print(l1)"
      ],
      "metadata": {
        "colab": {
          "base_uri": "https://localhost:8080/"
        },
        "id": "oOL0EnhpFQ-Y",
        "outputId": "b8f1703d-751f-4019-8855-a30d385b4da8"
      },
      "execution_count": 15,
      "outputs": [
        {
          "output_type": "stream",
          "name": "stdout",
          "text": [
            "[1, 2, 3, 4, 5]\n"
          ]
        }
      ]
    },
    {
      "cell_type": "code",
      "source": [
        "#7.Write a code to append the number 10 to the list [1, 2, 3, 4].\n",
        "l2 = [1, 2, 3, 4]\n",
        "l2.append(10)\n",
        "print(l2)"
      ],
      "metadata": {
        "colab": {
          "base_uri": "https://localhost:8080/"
        },
        "id": "K9OLkEirGmP6",
        "outputId": "7649544d-2235-4490-af29-e874a1abbce0"
      },
      "execution_count": 18,
      "outputs": [
        {
          "output_type": "stream",
          "name": "stdout",
          "text": [
            "[1, 2, 3, 4, 10]\n"
          ]
        }
      ]
    },
    {
      "cell_type": "code",
      "source": [
        "#8.Write a code to remove the number 3 from the list [1, 2, 3, 4, 5].\n",
        "l3 = [1, 2, 3, 4, 5]\n",
        "l3.remove(3)\n",
        "print(l3)\n"
      ],
      "metadata": {
        "colab": {
          "base_uri": "https://localhost:8080/"
        },
        "id": "mKWtaCNpGwNz",
        "outputId": "b5ce3a68-f3c0-45d7-ff79-f98f2d548bef"
      },
      "execution_count": 19,
      "outputs": [
        {
          "output_type": "stream",
          "name": "stdout",
          "text": [
            "[1, 2, 4, 5]\n"
          ]
        }
      ]
    },
    {
      "cell_type": "code",
      "source": [
        "#9.Write a code to access the second element in the list ['a', 'b', 'c', 'd'].\n",
        "letters = ['a', 'b', 'c', 'd']\n",
        "letters[1]"
      ],
      "metadata": {
        "colab": {
          "base_uri": "https://localhost:8080/",
          "height": 36
        },
        "id": "TTGFcRAkHJr1",
        "outputId": "be20cdcc-5423-48ae-9670-43fae880c58a"
      },
      "execution_count": 22,
      "outputs": [
        {
          "output_type": "execute_result",
          "data": {
            "text/plain": [
              "'b'"
            ],
            "application/vnd.google.colaboratory.intrinsic+json": {
              "type": "string"
            }
          },
          "metadata": {},
          "execution_count": 22
        }
      ]
    },
    {
      "cell_type": "code",
      "source": [
        "#10.Write a code to reverse the list [10, 20, 30, 40, 50].\n",
        "list4 = [10, 20, 30, 40, 50]\n",
        "list4.reverse()\n",
        "print(list4)"
      ],
      "metadata": {
        "colab": {
          "base_uri": "https://localhost:8080/"
        },
        "id": "iKvdw3BeH3Vl",
        "outputId": "b978561b-d919-47f0-8af8-44162b434943"
      },
      "execution_count": 24,
      "outputs": [
        {
          "output_type": "stream",
          "name": "stdout",
          "text": [
            "[50, 40, 30, 20, 10]\n"
          ]
        }
      ]
    },
    {
      "cell_type": "code",
      "source": [
        "#11.Write a code to create a tuple with the elements 100, 200, 300 and print it.\n",
        "numbers = (100, 200, 300)\n",
        "print(numbers)"
      ],
      "metadata": {
        "colab": {
          "base_uri": "https://localhost:8080/"
        },
        "id": "5bfjrj9IIyPU",
        "outputId": "b2307b7f-3cf1-4d77-c24e-11695fd3f7db"
      },
      "execution_count": 25,
      "outputs": [
        {
          "output_type": "stream",
          "name": "stdout",
          "text": [
            "(100, 200, 300)\n"
          ]
        }
      ]
    },
    {
      "cell_type": "code",
      "source": [
        "#12.Write a code to access the second-to-last element of the tuple ('red', 'green', 'blue', 'yellow').\n",
        "colours = ('red', 'green', 'blue', 'yellow')\n",
        "print(colours[-2])"
      ],
      "metadata": {
        "colab": {
          "base_uri": "https://localhost:8080/"
        },
        "id": "JKil3jllI919",
        "outputId": "9abf4675-b088-4770-ea09-aea6ef97cdf1"
      },
      "execution_count": 44,
      "outputs": [
        {
          "output_type": "stream",
          "name": "stdout",
          "text": [
            "blue\n"
          ]
        }
      ]
    },
    {
      "cell_type": "code",
      "source": [
        "#13.Write a code to find the minimum number in the tuple (10, 20, 5, 15).\n",
        "numbers2 = (10, 20, 5, 15)\n",
        "print(min(numbers2))"
      ],
      "metadata": {
        "colab": {
          "base_uri": "https://localhost:8080/"
        },
        "id": "J0r80yEaK-4r",
        "outputId": "cc072133-8adf-426d-aa43-037a0fa54312"
      },
      "execution_count": 32,
      "outputs": [
        {
          "output_type": "stream",
          "name": "stdout",
          "text": [
            "5\n"
          ]
        }
      ]
    },
    {
      "cell_type": "code",
      "source": [
        "#14.Write a code to find the index of the element \"cat\" in the tuple ('dog', 'cat', 'rabbit').\n",
        "animals = ('dog', 'cat', 'rabbit')\n",
        "print(animals.index('cat'))"
      ],
      "metadata": {
        "colab": {
          "base_uri": "https://localhost:8080/"
        },
        "id": "-RPvlj1iLU0A",
        "outputId": "1097f50f-6a27-4457-a841-d182bfc0f4e7"
      },
      "execution_count": 34,
      "outputs": [
        {
          "output_type": "stream",
          "name": "stdout",
          "text": [
            "1\n"
          ]
        }
      ]
    },
    {
      "cell_type": "code",
      "source": [
        "#15.Write a code to create a tuple containing three different fruits and check if \"kiwi\" is in it.\n",
        "fruits = (\"apple\", \"banana\", \"kiwi\")\n",
        "print(\"kiwi\" in fruits)"
      ],
      "metadata": {
        "colab": {
          "base_uri": "https://localhost:8080/"
        },
        "id": "goHTvPZTL7FQ",
        "outputId": "806dd045-a19c-478a-9292-c7fe8963589c"
      },
      "execution_count": 37,
      "outputs": [
        {
          "output_type": "stream",
          "name": "stdout",
          "text": [
            "True\n"
          ]
        }
      ]
    },
    {
      "cell_type": "code",
      "source": [
        "#16.Write a code to create a set with the elements 'a', 'b', 'c' and print it.\n",
        "alphabets = {'a', 'b', 'c'}\n",
        "print(alphabets)"
      ],
      "metadata": {
        "colab": {
          "base_uri": "https://localhost:8080/"
        },
        "id": "5H8hKrbYMbBG",
        "outputId": "7563da86-6ff1-4746-f056-2c9289aece30"
      },
      "execution_count": 43,
      "outputs": [
        {
          "output_type": "stream",
          "name": "stdout",
          "text": [
            "{'c', 'b', 'a'}\n"
          ]
        }
      ]
    },
    {
      "cell_type": "code",
      "source": [
        "#17.Write a code to clear all elements from the set {1, 2, 3, 4, 5}.\n",
        "numbers3 = {1, 2, 3, 4, 5}\n",
        "numbers3.clear()\n",
        "print(numbers3)"
      ],
      "metadata": {
        "colab": {
          "base_uri": "https://localhost:8080/"
        },
        "id": "VfueISckNi24",
        "outputId": "26951dc4-ff7e-4650-f2f1-b0f367297ad4"
      },
      "execution_count": 45,
      "outputs": [
        {
          "output_type": "stream",
          "name": "stdout",
          "text": [
            "set()\n"
          ]
        }
      ]
    },
    {
      "cell_type": "code",
      "source": [
        "#18.Write a code to remove the element 4 from the set {1, 2, 3, 4}.\n",
        "numbers4 = {1, 2, 3, 4}\n",
        "numbers4.remove(4)\n",
        "print(numbers4)"
      ],
      "metadata": {
        "colab": {
          "base_uri": "https://localhost:8080/"
        },
        "id": "6AnmvBNNPnVc",
        "outputId": "08fc369d-ec70-411e-c4c2-a2e46dd411fc"
      },
      "execution_count": 46,
      "outputs": [
        {
          "output_type": "stream",
          "name": "stdout",
          "text": [
            "{1, 2, 3}\n"
          ]
        }
      ]
    },
    {
      "cell_type": "code",
      "source": [
        "#19.Write a code to find the union of two sets {1, 2, 3} and {3, 4, 5}.\n",
        "set1 = {1, 2, 3}\n",
        "set2 = {3, 4, 5}\n",
        "print(set1.union(set2))"
      ],
      "metadata": {
        "colab": {
          "base_uri": "https://localhost:8080/"
        },
        "id": "ohg4umIRQtCX",
        "outputId": "c39935f8-8e96-4564-e244-dde26c231d0c"
      },
      "execution_count": 47,
      "outputs": [
        {
          "output_type": "stream",
          "name": "stdout",
          "text": [
            "{1, 2, 3, 4, 5}\n"
          ]
        }
      ]
    },
    {
      "cell_type": "code",
      "source": [
        "#20.Write a code to find the intersection of two sets {1, 2, 3} and {2, 3, 4}.\n",
        "set3 = {1, 2, 3}\n",
        "set4 = {2, 3, 4}\n",
        "print(set3.intersection(set4))"
      ],
      "metadata": {
        "colab": {
          "base_uri": "https://localhost:8080/"
        },
        "id": "MW-rlo42RNvI",
        "outputId": "dfd72f1e-86bc-4d77-ac5c-83eea9c9d2e5"
      },
      "execution_count": 48,
      "outputs": [
        {
          "output_type": "stream",
          "name": "stdout",
          "text": [
            "{2, 3}\n"
          ]
        }
      ]
    },
    {
      "cell_type": "code",
      "source": [
        "#21.Write a code to create a dictionary with the keys \"name\", \"age\", and \"city\", and print it.\n",
        "my_dict = {\"name\": \"Kartik\", \"age\": 20, \"city\": \"Mumbai\"}\n",
        "print(my_dict)"
      ],
      "metadata": {
        "colab": {
          "base_uri": "https://localhost:8080/"
        },
        "id": "5rObJY6xR2Ls",
        "outputId": "01dfcc1d-a36d-4b0d-f00b-6f12466c1eab"
      },
      "execution_count": 49,
      "outputs": [
        {
          "output_type": "stream",
          "name": "stdout",
          "text": [
            "{'name': 'Kartik', 'age': 20, 'city': 'Mumbai'}\n"
          ]
        }
      ]
    },
    {
      "cell_type": "code",
      "source": [
        "#22.Write a code to add a new key-value pair \"country\": \"USA\" to the dictionary {'name': 'John', 'age': 25}.\n",
        "my_dict2 = {'name': 'John', 'age': 25}\n",
        "my_dict2[\"country\"] = \"USA\"\n",
        "print(my_dict2)"
      ],
      "metadata": {
        "colab": {
          "base_uri": "https://localhost:8080/"
        },
        "id": "W8cbilOESsFa",
        "outputId": "7783415c-c838-492c-d686-156196c8fb3e"
      },
      "execution_count": 51,
      "outputs": [
        {
          "output_type": "stream",
          "name": "stdout",
          "text": [
            "{'name': 'John', 'age': 25, 'country': 'USA'}\n"
          ]
        }
      ]
    },
    {
      "cell_type": "code",
      "source": [
        "#23.Write a code to access the value associated with the key \"name\" in the dictionary {'name': 'Alice', 'age': 30}.\n",
        "my_dict3 = {'name': 'Alice', 'age': 30}\n",
        "print(my_dict3[\"name\"])"
      ],
      "metadata": {
        "colab": {
          "base_uri": "https://localhost:8080/"
        },
        "id": "sIcPu22Ycg2Z",
        "outputId": "36cf1e13-3d63-4b8e-9c87-3bfb55a1ed35"
      },
      "execution_count": 55,
      "outputs": [
        {
          "output_type": "stream",
          "name": "stdout",
          "text": [
            "Alice\n"
          ]
        }
      ]
    },
    {
      "cell_type": "code",
      "source": [
        "#24.Write a code to remove the key \"age\" from the dictionary {'name': 'Bob', 'age': 22, 'city': 'New York'}.\n",
        "my_dict4 = {'name': 'Bob', 'age': 22, 'city': 'New York'}\n",
        "my_dict4.pop(\"age\")\n",
        "print(my_dict4)\n",
        "\n"
      ],
      "metadata": {
        "colab": {
          "base_uri": "https://localhost:8080/"
        },
        "id": "Qb3qb5clihv4",
        "outputId": "cd0f9af6-04f0-447a-bb0a-f33164b03396"
      },
      "execution_count": 57,
      "outputs": [
        {
          "output_type": "stream",
          "name": "stdout",
          "text": [
            "{'name': 'Bob', 'city': 'New York'}\n"
          ]
        }
      ]
    },
    {
      "cell_type": "code",
      "source": [
        "#25.Write a code to check if the key \"city\" exists in the dictionary {'name': 'Alice', 'city': 'Paris'}.\n",
        "my_dict5 = {'name': 'Alice', 'city': 'Paris'}\n",
        "print(\"city\" in my_dict5)"
      ],
      "metadata": {
        "colab": {
          "base_uri": "https://localhost:8080/"
        },
        "id": "FQezfZm7jZxN",
        "outputId": "7a1a3567-3ff8-4e28-b700-42663b709b8b"
      },
      "execution_count": 60,
      "outputs": [
        {
          "output_type": "stream",
          "name": "stdout",
          "text": [
            "True\n"
          ]
        }
      ]
    },
    {
      "cell_type": "code",
      "source": [
        "#26.Write a code to create a list, a tuple, and a dictionary, and print them all.\n",
        "list1 = [1, 2, 3, 4]\n",
        "print(list1)\n",
        "tuple1 = (1, 2, 3, 4)\n",
        "print(tuple1)\n",
        "dict1 = {\"name\": \"Chinmay\", \"age\": 20}\n",
        "print(dict1)"
      ],
      "metadata": {
        "colab": {
          "base_uri": "https://localhost:8080/"
        },
        "id": "6crlKp5ZkHXm",
        "outputId": "7fa05a2a-2b0b-47e2-8e5a-9fc4f11edca3"
      },
      "execution_count": 66,
      "outputs": [
        {
          "output_type": "stream",
          "name": "stdout",
          "text": [
            "[1, 2, 3, 4]\n",
            "(1, 2, 3, 4)\n",
            "{'name': 'Chinmay', 'age': 20}\n"
          ]
        }
      ]
    },
    {
      "cell_type": "code",
      "source": [
        "#27.Write a code to create a list of 5 random numbers between 1 and 100, sort it in ascending order, and print the result.(replaced)\n",
        "import random\n",
        "random_list = random.sample(range(1, 101), 5)\n",
        "random_list.sort()\n",
        "print(random_list)\n"
      ],
      "metadata": {
        "colab": {
          "base_uri": "https://localhost:8080/"
        },
        "id": "PJKntCQ6k7Qo",
        "outputId": "b1a55065-91da-4b02-ddd5-9c3c65982a3f"
      },
      "execution_count": 70,
      "outputs": [
        {
          "output_type": "stream",
          "name": "stdout",
          "text": [
            "[13, 25, 48, 64, 91]\n"
          ]
        }
      ]
    },
    {
      "cell_type": "code",
      "source": [
        "#28.Write a code to create a list with strings and print the element at the third index.\n",
        "students_name = [\"Jay\", \"Kaushik\", \"Aryan\", \"Suyash\", \"Areen\"]\n",
        "print(students_name[3])"
      ],
      "metadata": {
        "colab": {
          "base_uri": "https://localhost:8080/"
        },
        "id": "pEWqv43rmX1E",
        "outputId": "4224050a-73fd-42da-e55e-85f04f55a706"
      },
      "execution_count": 72,
      "outputs": [
        {
          "output_type": "stream",
          "name": "stdout",
          "text": [
            "Suyash\n"
          ]
        }
      ]
    },
    {
      "cell_type": "code",
      "source": [
        "#29.Write a code to combine two dictionaries into one and print the result.\n",
        "dict1 = {\"name\": \"Rohit\", \"age\": 30}\n",
        "dict2 = {\"city\": \"Mumbai\", \"country\": \"India\"}\n",
        "\n",
        "combined_dict = {**dict1, **dict2}\n",
        "print(combined_dict)"
      ],
      "metadata": {
        "colab": {
          "base_uri": "https://localhost:8080/"
        },
        "id": "fR8xsk_wpov8",
        "outputId": "663cf906-7a79-4deb-bd6d-c8b990424396"
      },
      "execution_count": 73,
      "outputs": [
        {
          "output_type": "stream",
          "name": "stdout",
          "text": [
            "{'name': 'Rohit', 'age': 30, 'city': 'Mumbai', 'country': 'India'}\n"
          ]
        }
      ]
    },
    {
      "cell_type": "code",
      "source": [
        "#30.Write a code to convert a list of strings into a set.\n",
        "veggies = [\"carrot\", \"tomato\", \"potato\", \"carrot\"]\n",
        "veggies_set = set(veggies)\n",
        "print(veggies_set)"
      ],
      "metadata": {
        "colab": {
          "base_uri": "https://localhost:8080/"
        },
        "id": "jmF1aVGXqLFK",
        "outputId": "470d8d6f-5b46-462e-f363-036102edc364"
      },
      "execution_count": 74,
      "outputs": [
        {
          "output_type": "stream",
          "name": "stdout",
          "text": [
            "{'carrot', 'tomato', 'potato'}\n"
          ]
        }
      ]
    }
  ]
}